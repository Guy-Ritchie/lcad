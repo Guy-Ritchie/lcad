{
 "cells": [
  {
   "cell_type": "code",
   "execution_count": 1,
   "id": "d63488b6-0aae-44ba-9dc0-4b0fabcdbff0",
   "metadata": {},
   "outputs": [],
   "source": [
    "from utils.llm_provider import LLMProvider\n",
    "from dotenv import load_dotenv"
   ]
  },
  {
   "cell_type": "code",
   "execution_count": 2,
   "id": "57ec3944",
   "metadata": {},
   "outputs": [
    {
     "data": {
      "text/plain": [
       "True"
      ]
     },
     "execution_count": 2,
     "metadata": {},
     "output_type": "execute_result"
    }
   ],
   "source": [
    "load_dotenv()"
   ]
  },
  {
   "cell_type": "code",
   "execution_count": 3,
   "id": "4692a74c",
   "metadata": {},
   "outputs": [],
   "source": [
    "import os\n",
    "\n",
    "GOOGLE_MODEL_ID = os.environ[\"DEFAULT_MODEL\"]\n",
    "GOOGLE_FALLBACK_MODEL_ID = os.environ[\"ANOTHER_FALLBACK_MODEL\"]\n",
    "EMBEDDING_MODEL = os.environ[\"EMBEDDING_MODEL\"]\n",
    "\n",
    "GROQ_FALLBACK_MODEL_ID = os.environ[\"DEFAULT_FALLBACK_GROQ_MODEL\"]\n",
    "GROQ_TOOLCALL_MODEL_ID = os.environ[\"ANOTHER_FALLBACK_GROQ_MODEL\"]\n",
    "\n",
    "google_lm = LLMProvider(\n",
    "    model_id=GOOGLE_MODEL_ID,\n",
    "    provider=\"google\",\n",
    ").get_llm(max_tokens=4084, temperature=0.2)\n",
    "google_fblm = LLMProvider(\n",
    "    model_id=GOOGLE_FALLBACK_MODEL_ID,\n",
    "    provider=\"google\",\n",
    ").get_llm(max_tokens=4084, temperature=0.2)\n",
    "embed_lm = LLMProvider(\n",
    "    model_id=EMBEDDING_MODEL,\n",
    "    provider=\"google\",\n",
    ").get_embed_lm()\n",
    "\n",
    "\n",
    "groq_lm = LLMProvider().get_llm(max_tokens=4084)\n",
    "groq_fblm = LLMProvider(\n",
    "    model_id=GROQ_FALLBACK_MODEL_ID,\n",
    "    provider=\"groq\",\n",
    ").get_llm(max_tokens=4084)\n",
    "groq_tool_lm = LLMProvider(\n",
    "    model_id=GROQ_TOOLCALL_MODEL_ID,\n",
    "    provider=\"groq\",\n",
    ").get_llm(max_tokens=4084)"
   ]
  },
  {
   "cell_type": "markdown",
   "id": "9c8c90fd",
   "metadata": {},
   "source": [
    "List of llms we have access to, atm!\n",
    "\n",
    "```python\n",
    "\n",
    "llms = {\n",
    "    \"google\": [\n",
    "                google_lm,\n",
    "                google_fblm,\n",
    "                embed_lm,\n",
    "            ],\n",
    "    \"groq\": [\n",
    "                groq_lm,\n",
    "                groq_fblm,\n",
    "                groq_tool_lm,\n",
    "            ],\n",
    "}\n",
    "\n",
    "```"
   ]
  },
  {
   "cell_type": "markdown",
   "id": "038c2100",
   "metadata": {},
   "source": [
    "#### 1. Simple Graph"
   ]
  },
  {
   "cell_type": "code",
   "execution_count": 4,
   "id": "c50f612b",
   "metadata": {},
   "outputs": [],
   "source": [
    "from typing import TypedDict\n",
    "\n",
    "class State(TypedDict):\n",
    "    graph_state: str"
   ]
  },
  {
   "cell_type": "markdown",
   "id": "30f822b6",
   "metadata": {},
   "source": [
    "##### Nodes"
   ]
  },
  {
   "cell_type": "code",
   "execution_count": 5,
   "id": "9af65dee",
   "metadata": {},
   "outputs": [],
   "source": [
    "def node_1(state):\n",
    "    print(\"---Node 1---\")\n",
    "    return {\"graph_state\": state[\"graph_state\"] + \"I am\"}\n",
    "\n",
    "def node_2(state):\n",
    "    print(\"---Node 2---\")\n",
    "    return {\"graph_state\": state[\"graph_state\"] + \" happy!\"}\n",
    "\n",
    "def node_3(state):\n",
    "    print(\"---Node 3---\")\n",
    "    return {\"graph_state\": state[\"graph_state\"] + \" sad!\"}"
   ]
  },
  {
   "cell_type": "markdown",
   "id": "5bb4a4b8",
   "metadata": {},
   "source": [
    "##### Edges"
   ]
  },
  {
   "cell_type": "code",
   "execution_count": 6,
   "id": "740e8046",
   "metadata": {},
   "outputs": [],
   "source": [
    "import random\n",
    "from typing import Literal\n",
    "\n",
    "def decide_mood(state) -> Literal['node_2', 'node_3']:\n",
    "    user_input = state[\"graph_state\"]\n",
    "\n",
    "    if random.random() < 0.5:\n",
    "        return \"node_2\"\n",
    "    \n",
    "    return \"node_3\""
   ]
  },
  {
   "cell_type": "markdown",
   "id": "be448c7e",
   "metadata": {},
   "source": [
    "##### Graph construction"
   ]
  },
  {
   "cell_type": "code",
   "execution_count": 7,
   "id": "cb224ceb",
   "metadata": {},
   "outputs": [],
   "source": [
    "from langgraph.graph import StateGraph, START, END\n",
    "\n",
    "builder = StateGraph(State)\n",
    "\n",
    "builder.add_node(\"node_1\", node_1)\n",
    "builder.add_node(\"node_2\", node_2)\n",
    "builder.add_node(\"node_3\", node_3)\n",
    "\n",
    "builder.add_edge(START, \"node_1\")\n",
    "builder.add_conditional_edges(\n",
    "    \"node_1\", decide_mood\n",
    "    )\n",
    "builder.add_edge(\"node_2\", END)\n",
    "builder.add_edge(\"node_3\", END)\n",
    "\n",
    "graph = builder.compile()"
   ]
  },
  {
   "cell_type": "code",
   "execution_count": 8,
   "id": "05123ff1",
   "metadata": {},
   "outputs": [
    {
     "data": {
      "image/png": "[encoded data removed]",
      "text/plain": [
       "<IPython.core.display.Image object>"
      ]
     },
     "metadata": {},
     "output_type": "display_data"
    }
   ],
   "source": [
    "from IPython.display import display, Image\n",
    "display(Image(graph.get_graph().draw_mermaid_png()))"
   ]
  },
  {
   "cell_type": "code",
   "execution_count": 10,
   "id": "613459e5",
   "metadata": {},
   "outputs": [
    {
     "name": "stdout",
     "output_type": "stream",
     "text": [
      "---Node 1---\n",
      "---Node 2---\n"
     ]
    },
    {
     "data": {
      "text/plain": [
       "{'graph_state': \"rinzler, fights for the users. I'm CLU. I am happy!\"}"
      ]
     },
     "execution_count": 10,
     "metadata": {},
     "output_type": "execute_result"
    }
   ],
   "source": [
    "graph.invoke({\"graph_state\": \"rinzler, fights for the users. I'm CLU. \"})"
   ]
  },
  {
   "cell_type": "code",
   "execution_count": 12,
   "id": "ba4f735e",
   "metadata": {},
   "outputs": [
    {
     "name": "stdout",
     "output_type": "stream",
     "text": [
      "---Node 1---\n",
      "---Node 3---\n"
     ]
    },
    {
     "data": {
      "text/plain": [
       "{'graph_state': \"rinzler, fights for the users. I'm CLU. I am sad!\"}"
      ]
     },
     "execution_count": 12,
     "metadata": {},
     "output_type": "execute_result"
    }
   ],
   "source": [
    "graph.invoke({\"graph_state\": \"rinzler, fights for the users. I'm CLU. \"})"
   ]
  },
  {
   "cell_type": "markdown",
   "id": "b2678aef",
   "metadata": {},
   "source": [
    "#### 2. Chain\n",
    "\n",
    "We'll try to basically involve the following concepts:  \n",
    "- chat models\n",
    "- binding tools to LLM\n",
    "- executing tool calls in the graph"
   ]
  },
  {
   "cell_type": "markdown",
   "id": "4dd7cde0",
   "metadata": {},
   "source": [
    "##### Messages"
   ]
  },
  {
   "cell_type": "code",
   "execution_count": 14,
   "id": "9c737c8c",
   "metadata": {},
   "outputs": [
    {
     "name": "stdout",
     "output_type": "stream",
     "text": [
      "==================================\u001b[1m Ai Message \u001b[0m==================================\n",
      "Name: CLU\n",
      "\n",
      "So, you said you were wondering how adding a VPN service / a private tunnel, improves the security of an SSH connection?\n",
      "================================\u001b[1m Human Message \u001b[0m=================================\n",
      "Name: rinzler\n",
      "\n",
      "Yes, that's true. I recall reading somewhere that the VPN services do not respond back when authentication fails. Not really sure about the authenticity of this theory, though!\n",
      "==================================\u001b[1m Ai Message \u001b[0m==================================\n",
      "Name: CLU\n",
      "\n",
      "Oh, that's interesting. Perhaps I can help you with that. Would you like any help understanding this topic better?\n",
      "================================\u001b[1m Human Message \u001b[0m=================================\n",
      "Name: rinzler\n",
      "\n",
      "That would be great, yes.\n"
     ]
    }
   ],
   "source": [
    "# from pprint import pprint\n",
    "from langchain_core.messages import AIMessage, HumanMessage, SystemMessage\n",
    "\n",
    "messages = [AIMessage(content=\"So, you said you were wondering how adding a VPN service / a private tunnel, improves the security of an SSH connection?\", name=\"CLU\")]\n",
    "messages.extend([HumanMessage(content=\"Yes, that's true. I recall reading somewhere that the VPN services do not respond back when authentication fails. Not really sure about the authenticity of this theory, though!\", name=\"rinzler\")])\n",
    "messages.extend([AIMessage(content=\"Oh, that's interesting. Perhaps I can help you with that. Would you like any help understanding this topic better?\", name=\"CLU\")])\n",
    "messages.extend([HumanMessage(content=\"That would be great, yes.\", name=\"rinzler\")])\n",
    "\n",
    "for m in messages:\n",
    "    m.pretty_print()"
   ]
  },
  {
   "cell_type": "markdown",
   "id": "7309b94e",
   "metadata": {},
   "source": [
    "##### Chat Models\n",
    "\n",
    "Not worrying about importing model related libs, and loading the API key, since that's already taken care of in the earlier parts of the notebook;  \n",
    "and also in the `utils/llm_provider` module."
   ]
  },
  {
   "cell_type": "code",
   "execution_count": 15,
   "id": "c2b95fdc",
   "metadata": {},
   "outputs": [
    {
     "data": {
      "text/plain": [
       "langchain_core.messages.ai.AIMessage"
      ]
     },
     "execution_count": 15,
     "metadata": {},
     "output_type": "execute_result"
    }
   ],
   "source": [
    "result = google_lm.invoke(messages)\n",
    "type(result)"
   ]
  },
  {
   "cell_type": "code",
   "execution_count": 16,
   "id": "42c80807",
   "metadata": {},
   "outputs": [
    {
     "data": {
      "text/plain": [
       "AIMessage(content='The statement \"VPN services do not respond back when authentication fails\" is **partially true but misleading and doesn\\'t fully explain the security benefits**.  Let\\'s break it down:\\n\\n**What\\'s actually happening:**\\n\\n* **Standard SSH:** When you connect to an SSH server, your authentication attempt (username/password or key) is sent directly to the server.  If it fails, the server sends a rejection message back to you.  This exchange is visible to anyone passively monitoring the network traffic (e.g., a man-in-the-middle attacker).  They can see your username and potentially deduce other information from the failure response.\\n\\n* **SSH over VPN:** When you connect to an SSH server *through* a VPN, your SSH traffic is encrypted within the VPN tunnel.  The authentication attempt is still sent to the SSH server, but the entire communication (including the failure response) is encrypted.  A passive attacker on the network only sees encrypted data; they can\\'t see the username, password, or the success/failure of the authentication.\\n\\n**Why the statement is misleading:**\\n\\nThe VPN itself *does* respond.  It establishes a secure connection with your device and the VPN server.  The VPN server then acts as a gateway, forwarding your SSH traffic.  The VPN server *will* respond to your connection request, and it will respond to the SSH server\\'s authentication response.  The key is that *these responses are encrypted*.\\n\\nThe statement likely refers to the fact that the *SSH server\\'s rejection message* isn\\'t directly visible to the attacker.  The attacker only sees encrypted data flowing between your device and the VPN server.  The VPN server handles the decrypted communication with the SSH server.\\n\\n**The real security benefits of using a VPN with SSH:**\\n\\n* **Encryption:** The primary benefit is the encryption of all traffic within the VPN tunnel. This protects against eavesdropping and man-in-the-middle attacks.  Even if the SSH connection itself is compromised (a weak key, for example), the VPN adds an extra layer of security.\\n\\n* **Obscured Destination:** The VPN hides your real IP address.  The SSH server only sees the IP address of the VPN server, making it harder to trace the connection back to you.\\n\\n* **Protection against DNS leaks:**  A VPN can prevent DNS leaks, ensuring that your DNS queries are also encrypted and routed through the VPN.\\n\\n**In short:**  A VPN doesn\\'t prevent the SSH server from responding to authentication attempts.  Instead, it encrypts the entire communication, including the responses, making it unreadable to eavesdroppers.  This is the crucial security improvement.', additional_kwargs={}, response_metadata={'prompt_feedback': {'block_reason': 0, 'safety_ratings': []}, 'finish_reason': 'STOP', 'safety_ratings': []}, id='run-9a2a1d5b-d457-4329-8685-df951b15c75c-0', usage_metadata={'input_tokens': 92, 'output_tokens': 558, 'total_tokens': 650, 'input_token_details': {'cache_read': 0}})"
      ]
     },
     "execution_count": 16,
     "metadata": {},
     "output_type": "execute_result"
    }
   ],
   "source": [
    "result"
   ]
  },
  {
   "cell_type": "code",
   "execution_count": 17,
   "id": "267540ba",
   "metadata": {},
   "outputs": [
    {
     "data": {
      "text/markdown": [
       "The statement \"VPN services do not respond back when authentication fails\" is **partially true but misleading and doesn't fully explain the security benefits**.  Let's break it down:\n",
       "\n",
       "**What's actually happening:**\n",
       "\n",
       "* **Standard SSH:** When you connect to an SSH server, your authentication attempt (username/password or key) is sent directly to the server.  If it fails, the server sends a rejection message back to you.  This exchange is visible to anyone passively monitoring the network traffic (e.g., a man-in-the-middle attacker).  They can see your username and potentially deduce other information from the failure response.\n",
       "\n",
       "* **SSH over VPN:** When you connect to an SSH server *through* a VPN, your SSH traffic is encrypted within the VPN tunnel.  The authentication attempt is still sent to the SSH server, but the entire communication (including the failure response) is encrypted.  A passive attacker on the network only sees encrypted data; they can't see the username, password, or the success/failure of the authentication.\n",
       "\n",
       "**Why the statement is misleading:**\n",
       "\n",
       "The VPN itself *does* respond.  It establishes a secure connection with your device and the VPN server.  The VPN server then acts as a gateway, forwarding your SSH traffic.  The VPN server *will* respond to your connection request, and it will respond to the SSH server's authentication response.  The key is that *these responses are encrypted*.\n",
       "\n",
       "The statement likely refers to the fact that the *SSH server's rejection message* isn't directly visible to the attacker.  The attacker only sees encrypted data flowing between your device and the VPN server.  The VPN server handles the decrypted communication with the SSH server.\n",
       "\n",
       "**The real security benefits of using a VPN with SSH:**\n",
       "\n",
       "* **Encryption:** The primary benefit is the encryption of all traffic within the VPN tunnel. This protects against eavesdropping and man-in-the-middle attacks.  Even if the SSH connection itself is compromised (a weak key, for example), the VPN adds an extra layer of security.\n",
       "\n",
       "* **Obscured Destination:** The VPN hides your real IP address.  The SSH server only sees the IP address of the VPN server, making it harder to trace the connection back to you.\n",
       "\n",
       "* **Protection against DNS leaks:**  A VPN can prevent DNS leaks, ensuring that your DNS queries are also encrypted and routed through the VPN.\n",
       "\n",
       "**In short:**  A VPN doesn't prevent the SSH server from responding to authentication attempts.  Instead, it encrypts the entire communication, including the responses, making it unreadable to eavesdroppers.  This is the crucial security improvement."
      ],
      "text/plain": [
       "<IPython.core.display.Markdown object>"
      ]
     },
     "metadata": {},
     "output_type": "display_data"
    }
   ],
   "source": [
    "from IPython.display import display, Markdown\n",
    "display(Markdown(result.content))"
   ]
  },
  {
   "cell_type": "code",
   "execution_count": 18,
   "id": "2a0fadc2",
   "metadata": {},
   "outputs": [
    {
     "data": {
      "text/plain": [
       "{'input_tokens': 92,\n",
       " 'output_tokens': 558,\n",
       " 'total_tokens': 650,\n",
       " 'input_token_details': {'cache_read': 0}}"
      ]
     },
     "execution_count": 18,
     "metadata": {},
     "output_type": "execute_result"
    }
   ],
   "source": [
    "result.usage_metadata"
   ]
  },
  {
   "cell_type": "code",
   "execution_count": 20,
   "id": "816f3fbc",
   "metadata": {},
   "outputs": [
    {
     "data": {
      "text/plain": [
       "'{\"content\":\"The statement \\\\\"VPN services do not respond back when authentication fails\\\\\" is **partially true but misleading and doesn\\'t fully explain the security benefits**.  Let\\'s break it down:\\\\n\\\\n**What\\'s actually happening:**\\\\n\\\\n* **Standard SSH:** When you connect to an SSH server, your authentication attempt (username/password or key) is sent directly to the server.  If it fails, the server sends a rejection message back to you.  This exchange is visible to anyone passively monitoring the network traffic (e.g., a man-in-the-middle attacker).  They can see your username and potentially deduce other information from the failure response.\\\\n\\\\n* **SSH over VPN:** When you connect to an SSH server *through* a VPN, your SSH traffic is encrypted within the VPN tunnel.  The authentication attempt is still sent to the SSH server, but the entire communication (including the failure response) is encrypted.  A passive attacker on the network only sees encrypted data; they can\\'t see the username, password, or the success/failure of the authentication.\\\\n\\\\n**Why the statement is misleading:**\\\\n\\\\nThe VPN itself *does* respond.  It establishes a secure connection with your device and the VPN server.  The VPN server then acts as a gateway, forwarding your SSH traffic.  The VPN server *will* respond to your connection request, and it will respond to the SSH server\\'s authentication response.  The key is that *these responses are encrypted*.\\\\n\\\\nThe statement likely refers to the fact that the *SSH server\\'s rejection message* isn\\'t directly visible to the attacker.  The attacker only sees encrypted data flowing between your device and the VPN server.  The VPN server handles the decrypted communication with the SSH server.\\\\n\\\\n**The real security benefits of using a VPN with SSH:**\\\\n\\\\n* **Encryption:** The primary benefit is the encryption of all traffic within the VPN tunnel. This protects against eavesdropping and man-in-the-middle attacks.  Even if the SSH connection itself is compromised (a weak key, for example), the VPN adds an extra layer of security.\\\\n\\\\n* **Obscured Destination:** The VPN hides your real IP address.  The SSH server only sees the IP address of the VPN server, making it harder to trace the connection back to you.\\\\n\\\\n* **Protection against DNS leaks:**  A VPN can prevent DNS leaks, ensuring that your DNS queries are also encrypted and routed through the VPN.\\\\n\\\\n**In short:**  A VPN doesn\\'t prevent the SSH server from responding to authentication attempts.  Instead, it encrypts the entire communication, including the responses, making it unreadable to eavesdroppers.  This is the crucial security improvement.\",\"additional_kwargs\":{},\"response_metadata\":{\"prompt_feedback\":{\"block_reason\":0,\"safety_ratings\":[]},\"finish_reason\":\"STOP\",\"safety_ratings\":[]},\"type\":\"ai\",\"name\":null,\"id\":\"run-9a2a1d5b-d457-4329-8685-df951b15c75c-0\",\"example\":false,\"tool_calls\":[],\"invalid_tool_calls\":[],\"usage_metadata\":{\"input_tokens\":92,\"output_tokens\":558,\"total_tokens\":650,\"input_token_details\":{\"cache_read\":0}}}'"
      ]
     },
     "execution_count": 20,
     "metadata": {},
     "output_type": "execute_result"
    }
   ],
   "source": [
    "result.model_dump_json()"
   ]
  },
  {
   "cell_type": "code",
   "execution_count": 21,
   "id": "2495ea5d",
   "metadata": {},
   "outputs": [
    {
     "data": {
      "text/plain": [
       "{'content': 'The statement \"VPN services do not respond back when authentication fails\" is **partially true but misleading and doesn\\'t fully explain the security benefits**.  Let\\'s break it down:\\n\\n**What\\'s actually happening:**\\n\\n* **Standard SSH:** When you connect to an SSH server, your authentication attempt (username/password or key) is sent directly to the server.  If it fails, the server sends a rejection message back to you.  This exchange is visible to anyone passively monitoring the network traffic (e.g., a man-in-the-middle attacker).  They can see your username and potentially deduce other information from the failure response.\\n\\n* **SSH over VPN:** When you connect to an SSH server *through* a VPN, your SSH traffic is encrypted within the VPN tunnel.  The authentication attempt is still sent to the SSH server, but the entire communication (including the failure response) is encrypted.  A passive attacker on the network only sees encrypted data; they can\\'t see the username, password, or the success/failure of the authentication.\\n\\n**Why the statement is misleading:**\\n\\nThe VPN itself *does* respond.  It establishes a secure connection with your device and the VPN server.  The VPN server then acts as a gateway, forwarding your SSH traffic.  The VPN server *will* respond to your connection request, and it will respond to the SSH server\\'s authentication response.  The key is that *these responses are encrypted*.\\n\\nThe statement likely refers to the fact that the *SSH server\\'s rejection message* isn\\'t directly visible to the attacker.  The attacker only sees encrypted data flowing between your device and the VPN server.  The VPN server handles the decrypted communication with the SSH server.\\n\\n**The real security benefits of using a VPN with SSH:**\\n\\n* **Encryption:** The primary benefit is the encryption of all traffic within the VPN tunnel. This protects against eavesdropping and man-in-the-middle attacks.  Even if the SSH connection itself is compromised (a weak key, for example), the VPN adds an extra layer of security.\\n\\n* **Obscured Destination:** The VPN hides your real IP address.  The SSH server only sees the IP address of the VPN server, making it harder to trace the connection back to you.\\n\\n* **Protection against DNS leaks:**  A VPN can prevent DNS leaks, ensuring that your DNS queries are also encrypted and routed through the VPN.\\n\\n**In short:**  A VPN doesn\\'t prevent the SSH server from responding to authentication attempts.  Instead, it encrypts the entire communication, including the responses, making it unreadable to eavesdroppers.  This is the crucial security improvement.',\n",
       " 'additional_kwargs': {},\n",
       " 'response_metadata': {'prompt_feedback': {'block_reason': 0,\n",
       "   'safety_ratings': []},\n",
       "  'finish_reason': 'STOP',\n",
       "  'safety_ratings': []},\n",
       " 'type': 'ai',\n",
       " 'name': None,\n",
       " 'id': 'run-9a2a1d5b-d457-4329-8685-df951b15c75c-0',\n",
       " 'example': False,\n",
       " 'tool_calls': [],\n",
       " 'invalid_tool_calls': [],\n",
       " 'usage_metadata': {'input_tokens': 92,\n",
       "  'output_tokens': 558,\n",
       "  'total_tokens': 650,\n",
       "  'input_token_details': {'cache_read': 0}}}"
      ]
     },
     "execution_count": 21,
     "metadata": {},
     "output_type": "execute_result"
    }
   ],
   "source": [
    "result.model_dump()"
   ]
  },
  {
   "cell_type": "markdown",
   "id": "ba766b89",
   "metadata": {},
   "source": [
    "<div class=\"alert-block alert\" style=\"background-color: #ed2c14; color: #fff;\">\n",
    "\n",
    "Well, what about Groq models, then?\n",
    "\n",
    "</div>"
   ]
  },
  {
   "cell_type": "code",
   "execution_count": 22,
   "id": "e2e7f925",
   "metadata": {},
   "outputs": [
    {
     "data": {
      "text/plain": [
       "langchain_core.messages.ai.AIMessage"
      ]
     },
     "execution_count": 22,
     "metadata": {},
     "output_type": "execute_result"
    }
   ],
   "source": [
    "groq_result = groq_lm.invoke(messages)\n",
    "type(groq_result)"
   ]
  },
  {
   "cell_type": "code",
   "execution_count": 23,
   "id": "b3f43b41",
   "metadata": {},
   "outputs": [
    {
     "data": {
      "text/plain": [
       "AIMessage(content=\"When you connect to a VPN (Virtual Private Network), it creates a secure tunnel between your device and the VPN server. This tunnel encrypts all your internet traffic, making it difficult for anyone to intercept or eavesdrop on your data.\\n\\nNow, when you're using a VPN to connect to an SSH server (Secure Shell), the VPN server acts as an intermediary between your device and the SSH server. This means that your device doesn't directly connect to the SSH server; instead, it connects to the VPN server, which then forwards your traffic to the SSH server.\\n\\nRegarding your question about authentication failures, here's what happens:\\n\\n1. When you try to connect to the SSH server through the VPN, your device sends a request to the VPN server.\\n2. The VPN server forwards this request to the SSH server.\\n3. If the authentication fails (e.g., you enter the wrong password), the SSH server will respond with an error message to the VPN server.\\n4. However, the VPN server will not respond to your device with the error message. Instead, it will simply close the connection.\\n\\nThis is because the VPN server doesn't send any error messages back to your device. It only forwards the error message to the VPN server, which then closes the connection.\\n\\nThis behavior is a security feature of VPNs. By not responding to authentication failures, VPNs prevent attackers from determining whether a username or password is valid or not. This makes it more difficult for attackers to conduct brute-force attacks or dictionary attacks on your SSH server.\\n\\nSo, to summarize, the theory you read is correct: VPNs don't respond to authentication failures, which makes it harder for attackers to determine whether a username or password is valid or not.\", additional_kwargs={}, response_metadata={'token_usage': {'completion_tokens': 348, 'prompt_tokens': 140, 'total_tokens': 488, 'completion_time': 0.464, 'prompt_time': 0.00638564, 'queue_time': 0.234188176, 'total_time': 0.47038564}, 'model_name': 'llama-3.1-8b-instant', 'system_fingerprint': 'fp_21a77a6a8c', 'finish_reason': 'stop', 'logprobs': None}, id='run-eac12e00-ef72-45c3-8f34-6c440f424722-0', usage_metadata={'input_tokens': 140, 'output_tokens': 348, 'total_tokens': 488})"
      ]
     },
     "execution_count": 23,
     "metadata": {},
     "output_type": "execute_result"
    }
   ],
   "source": [
    "groq_result"
   ]
  },
  {
   "cell_type": "code",
   "execution_count": 24,
   "id": "64b755cc",
   "metadata": {},
   "outputs": [
    {
     "data": {
      "text/markdown": [
       "When you connect to a VPN (Virtual Private Network), it creates a secure tunnel between your device and the VPN server. This tunnel encrypts all your internet traffic, making it difficult for anyone to intercept or eavesdrop on your data.\n",
       "\n",
       "Now, when you're using a VPN to connect to an SSH server (Secure Shell), the VPN server acts as an intermediary between your device and the SSH server. This means that your device doesn't directly connect to the SSH server; instead, it connects to the VPN server, which then forwards your traffic to the SSH server.\n",
       "\n",
       "Regarding your question about authentication failures, here's what happens:\n",
       "\n",
       "1. When you try to connect to the SSH server through the VPN, your device sends a request to the VPN server.\n",
       "2. The VPN server forwards this request to the SSH server.\n",
       "3. If the authentication fails (e.g., you enter the wrong password), the SSH server will respond with an error message to the VPN server.\n",
       "4. However, the VPN server will not respond to your device with the error message. Instead, it will simply close the connection.\n",
       "\n",
       "This is because the VPN server doesn't send any error messages back to your device. It only forwards the error message to the VPN server, which then closes the connection.\n",
       "\n",
       "This behavior is a security feature of VPNs. By not responding to authentication failures, VPNs prevent attackers from determining whether a username or password is valid or not. This makes it more difficult for attackers to conduct brute-force attacks or dictionary attacks on your SSH server.\n",
       "\n",
       "So, to summarize, the theory you read is correct: VPNs don't respond to authentication failures, which makes it harder for attackers to determine whether a username or password is valid or not."
      ],
      "text/plain": [
       "<IPython.core.display.Markdown object>"
      ]
     },
     "metadata": {},
     "output_type": "display_data"
    }
   ],
   "source": [
    "from IPython.display import display, Markdown\n",
    "display(Markdown(groq_result.content))"
   ]
  },
  {
   "cell_type": "code",
   "execution_count": 25,
   "id": "cadd05f9",
   "metadata": {},
   "outputs": [
    {
     "data": {
      "text/plain": [
       "{'input_tokens': 140, 'output_tokens': 348, 'total_tokens': 488}"
      ]
     },
     "execution_count": 25,
     "metadata": {},
     "output_type": "execute_result"
    }
   ],
   "source": [
    "groq_result.usage_metadata"
   ]
  },
  {
   "cell_type": "code",
   "execution_count": 26,
   "id": "2bea045c",
   "metadata": {},
   "outputs": [
    {
     "data": {
      "text/plain": [
       "{'content': \"When you connect to a VPN (Virtual Private Network), it creates a secure tunnel between your device and the VPN server. This tunnel encrypts all your internet traffic, making it difficult for anyone to intercept or eavesdrop on your data.\\n\\nNow, when you're using a VPN to connect to an SSH server (Secure Shell), the VPN server acts as an intermediary between your device and the SSH server. This means that your device doesn't directly connect to the SSH server; instead, it connects to the VPN server, which then forwards your traffic to the SSH server.\\n\\nRegarding your question about authentication failures, here's what happens:\\n\\n1. When you try to connect to the SSH server through the VPN, your device sends a request to the VPN server.\\n2. The VPN server forwards this request to the SSH server.\\n3. If the authentication fails (e.g., you enter the wrong password), the SSH server will respond with an error message to the VPN server.\\n4. However, the VPN server will not respond to your device with the error message. Instead, it will simply close the connection.\\n\\nThis is because the VPN server doesn't send any error messages back to your device. It only forwards the error message to the VPN server, which then closes the connection.\\n\\nThis behavior is a security feature of VPNs. By not responding to authentication failures, VPNs prevent attackers from determining whether a username or password is valid or not. This makes it more difficult for attackers to conduct brute-force attacks or dictionary attacks on your SSH server.\\n\\nSo, to summarize, the theory you read is correct: VPNs don't respond to authentication failures, which makes it harder for attackers to determine whether a username or password is valid or not.\",\n",
       " 'additional_kwargs': {},\n",
       " 'response_metadata': {'token_usage': {'completion_tokens': 348,\n",
       "   'prompt_tokens': 140,\n",
       "   'total_tokens': 488,\n",
       "   'completion_time': 0.464,\n",
       "   'prompt_time': 0.00638564,\n",
       "   'queue_time': 0.234188176,\n",
       "   'total_time': 0.47038564},\n",
       "  'model_name': 'llama-3.1-8b-instant',\n",
       "  'system_fingerprint': 'fp_21a77a6a8c',\n",
       "  'finish_reason': 'stop',\n",
       "  'logprobs': None},\n",
       " 'type': 'ai',\n",
       " 'name': None,\n",
       " 'id': 'run-eac12e00-ef72-45c3-8f34-6c440f424722-0',\n",
       " 'example': False,\n",
       " 'tool_calls': [],\n",
       " 'invalid_tool_calls': [],\n",
       " 'usage_metadata': {'input_tokens': 140,\n",
       "  'output_tokens': 348,\n",
       "  'total_tokens': 488}}"
      ]
     },
     "execution_count": 26,
     "metadata": {},
     "output_type": "execute_result"
    }
   ],
   "source": [
    "groq_result.model_dump()"
   ]
  },
  {
   "cell_type": "markdown",
   "id": "8b0e426a",
   "metadata": {},
   "source": [
    "##### Tools\n",
    "\n",
    "I'm going to build a git add to index, and commit tool.  \n",
    "Instead of doing the rhetoric usual stuff, where we provide the llm with functions that perform basic arithmetic operations, let's have some fun!"
   ]
  },
  {
   "cell_type": "code",
   "execution_count": 27,
   "id": "6f3c575f",
   "metadata": {},
   "outputs": [],
   "source": [
    "# TODO: make method / tool_call accept param, that gets the repo path, to then check and run the commands at!\n",
    "# This is a very trivial improvement, won't take much effort.\n",
    "# Just get the path to repo in the method as a param, do os.chdir() to that path, and then continue!\n",
    "\n",
    "import os\n",
    "from pathlib import Path\n",
    "\n",
    "def add_and_commit_changes(repo_local_path: str = \".\") -> bool:\n",
    "    \"\"\"\n",
    "    Method to check if there are any changes to repository.\n",
    "    If there are changes, then generate commit message, appropriate to the changes made.\n",
    "    Commit changes after adding them to the staging area.\n",
    "\n",
    "    Args:\n",
    "        repo_local_path (str): Path to the local repository. Defaults to current directory.\n",
    "\n",
    "    Returns:\n",
    "        bool: True if changes were committed successfully, False otherwise.\n",
    "    \"\"\"\n",
    "    print(\"___\"*10)\n",
    "    print(\"Git commit tool call, invoked!!!\")\n",
    "    print(\"___\"*10)\n",
    "\n",
    "    os.chdir(repo_local_path)\n",
    "\n",
    "    import subprocess\n",
    "    from langchain_core.messages import HumanMessage, SystemMessage\n",
    "    # capture the output of the process!\n",
    "    print(\"`>$ git status` ...\")\n",
    "    result = subprocess.run([\"git\", \"status\"], capture_output=True, text=True)\n",
    "\n",
    "    output = result.stdout\n",
    "\n",
    "    if \"nothing to commit, working tree clean\" in output.lower():\n",
    "        print(\"No changes to be committed!\")\n",
    "        return False\n",
    "    \n",
    "    print(output)\n",
    "    \n",
    "    res = subprocess.run([\"git\", \"diff\", \"HEAD\"], capture_output=True, text=True)\n",
    "    diff = res.stdout\n",
    "\n",
    "    bres = subprocess.run([\"git\", \"branch\", \"--show-current\"], capture_output=True, text=True)\n",
    "    branch = bres.stdout\n",
    "    l10c_res = subprocess.run([\"git\", \"log\", \"-n\", \"10\", \"--oneline\"], capture_output=True, text=True)\n",
    "    log10commits = l10c_res.stdout\n",
    "\n",
    "    messages = [\n",
    "        SystemMessage(content=\"You are a senior developer, who is experienced with Git and Distributed Version control systems. You are also fairly proficient in articulating technical specifics in english, for anyone to read and comprehend.\"),\n",
    "        HumanMessage(content=f\"Given the following diff from previous commit:\\n {diff}\", name=\"rinzler\"),\n",
    "        HumanMessage(content=f\"\\nGiven the following branch name: {branch}\", name=\"rinzler\"),\n",
    "        HumanMessage(content=f\"\\nGiven the following log of last 10 commits: {log10commits}\", name=\"rinzler\"),\n",
    "        HumanMessage(content=\"Generate a commit message, that would be relevant to the changes made in the repository!\", name=\"rinzler\")\n",
    "    ]\n",
    "    \n",
    "    commit = google_lm.invoke(messages)\n",
    "    commit_msg = commit.content\n",
    "\n",
    "    print(f\"Committing changes with message: {commit_msg}\")\n",
    "    subprocess.run([\"git\", \"add\", \".\"])\n",
    "    subprocess.run([\"git\", \"commit\", \"-m\", commit_msg])\n",
    "    print(\"Changes committed successfully!\")\n",
    "    return True"
   ]
  },
  {
   "cell_type": "code",
   "execution_count": 28,
   "id": "1a56c46f",
   "metadata": {},
   "outputs": [],
   "source": [
    "tool_access_lm = groq_tool_lm.bind_tools([add_and_commit_changes])"
   ]
  },
  {
   "cell_type": "code",
   "execution_count": 29,
   "id": "6cf8f035",
   "metadata": {},
   "outputs": [
    {
     "ename": "BadRequestError",
     "evalue": "Error code: 400 - {'error': {'message': 'The model `llama3-groq-8b-8192-tool-use-preview` has been decommissioned and is no longer supported. Please refer to https://console.groq.com/docs/deprecations for a recommendation on which model to use instead.', 'type': 'invalid_request_error', 'code': 'model_decommissioned'}}",
     "output_type": "error",
     "traceback": [
      "\u001b[0;31m---------------------------------------------------------------------------\u001b[0m",
      "\u001b[0;31mBadRequestError\u001b[0m                           Traceback (most recent call last)",
      "Cell \u001b[0;32mIn[29], line 1\u001b[0m\n\u001b[0;32m----> 1\u001b[0m tool_call_res_test1 \u001b[38;5;241m=\u001b[39m \u001b[43mtool_access_lm\u001b[49m\u001b[38;5;241;43m.\u001b[39;49m\u001b[43minvoke\u001b[49m\u001b[43m(\u001b[49m\u001b[38;5;124;43m\"\u001b[39;49m\u001b[38;5;124;43mWhat can you tell me about the learned helplessness theory?\u001b[39;49m\u001b[38;5;124;43m\"\u001b[39;49m\u001b[43m)\u001b[49m\n\u001b[1;32m      2\u001b[0m tool_call_res_test1\n",
      "File \u001b[0;32m~/docs/python/langchain_academy/.venv/lib/python3.11/site-packages/langchain_core/runnables/base.py:5360\u001b[0m, in \u001b[0;36mRunnableBindingBase.invoke\u001b[0;34m(self, input, config, **kwargs)\u001b[0m\n\u001b[1;32m   5354\u001b[0m \u001b[38;5;28;01mdef\u001b[39;00m\u001b[38;5;250m \u001b[39m\u001b[38;5;21minvoke\u001b[39m(\n\u001b[1;32m   5355\u001b[0m     \u001b[38;5;28mself\u001b[39m,\n\u001b[1;32m   5356\u001b[0m     \u001b[38;5;28minput\u001b[39m: Input,\n\u001b[1;32m   5357\u001b[0m     config: Optional[RunnableConfig] \u001b[38;5;241m=\u001b[39m \u001b[38;5;28;01mNone\u001b[39;00m,\n\u001b[1;32m   5358\u001b[0m     \u001b[38;5;241m*\u001b[39m\u001b[38;5;241m*\u001b[39mkwargs: Optional[Any],\n\u001b[1;32m   5359\u001b[0m ) \u001b[38;5;241m-\u001b[39m\u001b[38;5;241m>\u001b[39m Output:\n\u001b[0;32m-> 5360\u001b[0m     \u001b[38;5;28;01mreturn\u001b[39;00m \u001b[38;5;28;43mself\u001b[39;49m\u001b[38;5;241;43m.\u001b[39;49m\u001b[43mbound\u001b[49m\u001b[38;5;241;43m.\u001b[39;49m\u001b[43minvoke\u001b[49m\u001b[43m(\u001b[49m\n\u001b[1;32m   5361\u001b[0m \u001b[43m        \u001b[49m\u001b[38;5;28;43minput\u001b[39;49m\u001b[43m,\u001b[49m\n\u001b[1;32m   5362\u001b[0m \u001b[43m        \u001b[49m\u001b[38;5;28;43mself\u001b[39;49m\u001b[38;5;241;43m.\u001b[39;49m\u001b[43m_merge_configs\u001b[49m\u001b[43m(\u001b[49m\u001b[43mconfig\u001b[49m\u001b[43m)\u001b[49m\u001b[43m,\u001b[49m\n\u001b[1;32m   5363\u001b[0m \u001b[43m        \u001b[49m\u001b[38;5;241;43m*\u001b[39;49m\u001b[38;5;241;43m*\u001b[39;49m\u001b[43m{\u001b[49m\u001b[38;5;241;43m*\u001b[39;49m\u001b[38;5;241;43m*\u001b[39;49m\u001b[38;5;28;43mself\u001b[39;49m\u001b[38;5;241;43m.\u001b[39;49m\u001b[43mkwargs\u001b[49m\u001b[43m,\u001b[49m\u001b[43m \u001b[49m\u001b[38;5;241;43m*\u001b[39;49m\u001b[38;5;241;43m*\u001b[39;49m\u001b[43mkwargs\u001b[49m\u001b[43m}\u001b[49m\u001b[43m,\u001b[49m\n\u001b[1;32m   5364\u001b[0m \u001b[43m    \u001b[49m\u001b[43m)\u001b[49m\n",
      "File \u001b[0;32m~/docs/python/langchain_academy/.venv/lib/python3.11/site-packages/langchain_core/language_models/chat_models.py:284\u001b[0m, in \u001b[0;36mBaseChatModel.invoke\u001b[0;34m(self, input, config, stop, **kwargs)\u001b[0m\n\u001b[1;32m    273\u001b[0m \u001b[38;5;28;01mdef\u001b[39;00m\u001b[38;5;250m \u001b[39m\u001b[38;5;21minvoke\u001b[39m(\n\u001b[1;32m    274\u001b[0m     \u001b[38;5;28mself\u001b[39m,\n\u001b[1;32m    275\u001b[0m     \u001b[38;5;28minput\u001b[39m: LanguageModelInput,\n\u001b[0;32m   (...)\u001b[0m\n\u001b[1;32m    279\u001b[0m     \u001b[38;5;241m*\u001b[39m\u001b[38;5;241m*\u001b[39mkwargs: Any,\n\u001b[1;32m    280\u001b[0m ) \u001b[38;5;241m-\u001b[39m\u001b[38;5;241m>\u001b[39m BaseMessage:\n\u001b[1;32m    281\u001b[0m     config \u001b[38;5;241m=\u001b[39m ensure_config(config)\n\u001b[1;32m    282\u001b[0m     \u001b[38;5;28;01mreturn\u001b[39;00m cast(\n\u001b[1;32m    283\u001b[0m         ChatGeneration,\n\u001b[0;32m--> 284\u001b[0m         \u001b[38;5;28;43mself\u001b[39;49m\u001b[38;5;241;43m.\u001b[39;49m\u001b[43mgenerate_prompt\u001b[49m\u001b[43m(\u001b[49m\n\u001b[1;32m    285\u001b[0m \u001b[43m            \u001b[49m\u001b[43m[\u001b[49m\u001b[38;5;28;43mself\u001b[39;49m\u001b[38;5;241;43m.\u001b[39;49m\u001b[43m_convert_input\u001b[49m\u001b[43m(\u001b[49m\u001b[38;5;28;43minput\u001b[39;49m\u001b[43m)\u001b[49m\u001b[43m]\u001b[49m\u001b[43m,\u001b[49m\n\u001b[1;32m    286\u001b[0m \u001b[43m            \u001b[49m\u001b[43mstop\u001b[49m\u001b[38;5;241;43m=\u001b[39;49m\u001b[43mstop\u001b[49m\u001b[43m,\u001b[49m\n\u001b[1;32m    287\u001b[0m \u001b[43m            \u001b[49m\u001b[43mcallbacks\u001b[49m\u001b[38;5;241;43m=\u001b[39;49m\u001b[43mconfig\u001b[49m\u001b[38;5;241;43m.\u001b[39;49m\u001b[43mget\u001b[49m\u001b[43m(\u001b[49m\u001b[38;5;124;43m\"\u001b[39;49m\u001b[38;5;124;43mcallbacks\u001b[39;49m\u001b[38;5;124;43m\"\u001b[39;49m\u001b[43m)\u001b[49m\u001b[43m,\u001b[49m\n\u001b[1;32m    288\u001b[0m \u001b[43m            \u001b[49m\u001b[43mtags\u001b[49m\u001b[38;5;241;43m=\u001b[39;49m\u001b[43mconfig\u001b[49m\u001b[38;5;241;43m.\u001b[39;49m\u001b[43mget\u001b[49m\u001b[43m(\u001b[49m\u001b[38;5;124;43m\"\u001b[39;49m\u001b[38;5;124;43mtags\u001b[39;49m\u001b[38;5;124;43m\"\u001b[39;49m\u001b[43m)\u001b[49m\u001b[43m,\u001b[49m\n\u001b[1;32m    289\u001b[0m \u001b[43m            \u001b[49m\u001b[43mmetadata\u001b[49m\u001b[38;5;241;43m=\u001b[39;49m\u001b[43mconfig\u001b[49m\u001b[38;5;241;43m.\u001b[39;49m\u001b[43mget\u001b[49m\u001b[43m(\u001b[49m\u001b[38;5;124;43m\"\u001b[39;49m\u001b[38;5;124;43mmetadata\u001b[39;49m\u001b[38;5;124;43m\"\u001b[39;49m\u001b[43m)\u001b[49m\u001b[43m,\u001b[49m\n\u001b[1;32m    290\u001b[0m \u001b[43m            \u001b[49m\u001b[43mrun_name\u001b[49m\u001b[38;5;241;43m=\u001b[39;49m\u001b[43mconfig\u001b[49m\u001b[38;5;241;43m.\u001b[39;49m\u001b[43mget\u001b[49m\u001b[43m(\u001b[49m\u001b[38;5;124;43m\"\u001b[39;49m\u001b[38;5;124;43mrun_name\u001b[39;49m\u001b[38;5;124;43m\"\u001b[39;49m\u001b[43m)\u001b[49m\u001b[43m,\u001b[49m\n\u001b[1;32m    291\u001b[0m \u001b[43m            \u001b[49m\u001b[43mrun_id\u001b[49m\u001b[38;5;241;43m=\u001b[39;49m\u001b[43mconfig\u001b[49m\u001b[38;5;241;43m.\u001b[39;49m\u001b[43mpop\u001b[49m\u001b[43m(\u001b[49m\u001b[38;5;124;43m\"\u001b[39;49m\u001b[38;5;124;43mrun_id\u001b[39;49m\u001b[38;5;124;43m\"\u001b[39;49m\u001b[43m,\u001b[49m\u001b[43m \u001b[49m\u001b[38;5;28;43;01mNone\u001b[39;49;00m\u001b[43m)\u001b[49m\u001b[43m,\u001b[49m\n\u001b[1;32m    292\u001b[0m \u001b[43m            \u001b[49m\u001b[38;5;241;43m*\u001b[39;49m\u001b[38;5;241;43m*\u001b[39;49m\u001b[43mkwargs\u001b[49m\u001b[43m,\u001b[49m\n\u001b[1;32m    293\u001b[0m \u001b[43m        \u001b[49m\u001b[43m)\u001b[49m\u001b[38;5;241m.\u001b[39mgenerations[\u001b[38;5;241m0\u001b[39m][\u001b[38;5;241m0\u001b[39m],\n\u001b[1;32m    294\u001b[0m     )\u001b[38;5;241m.\u001b[39mmessage\n",
      "File \u001b[0;32m~/docs/python/langchain_academy/.venv/lib/python3.11/site-packages/langchain_core/language_models/chat_models.py:860\u001b[0m, in \u001b[0;36mBaseChatModel.generate_prompt\u001b[0;34m(self, prompts, stop, callbacks, **kwargs)\u001b[0m\n\u001b[1;32m    852\u001b[0m \u001b[38;5;28;01mdef\u001b[39;00m\u001b[38;5;250m \u001b[39m\u001b[38;5;21mgenerate_prompt\u001b[39m(\n\u001b[1;32m    853\u001b[0m     \u001b[38;5;28mself\u001b[39m,\n\u001b[1;32m    854\u001b[0m     prompts: \u001b[38;5;28mlist\u001b[39m[PromptValue],\n\u001b[0;32m   (...)\u001b[0m\n\u001b[1;32m    857\u001b[0m     \u001b[38;5;241m*\u001b[39m\u001b[38;5;241m*\u001b[39mkwargs: Any,\n\u001b[1;32m    858\u001b[0m ) \u001b[38;5;241m-\u001b[39m\u001b[38;5;241m>\u001b[39m LLMResult:\n\u001b[1;32m    859\u001b[0m     prompt_messages \u001b[38;5;241m=\u001b[39m [p\u001b[38;5;241m.\u001b[39mto_messages() \u001b[38;5;28;01mfor\u001b[39;00m p \u001b[38;5;129;01min\u001b[39;00m prompts]\n\u001b[0;32m--> 860\u001b[0m     \u001b[38;5;28;01mreturn\u001b[39;00m \u001b[38;5;28;43mself\u001b[39;49m\u001b[38;5;241;43m.\u001b[39;49m\u001b[43mgenerate\u001b[49m\u001b[43m(\u001b[49m\u001b[43mprompt_messages\u001b[49m\u001b[43m,\u001b[49m\u001b[43m \u001b[49m\u001b[43mstop\u001b[49m\u001b[38;5;241;43m=\u001b[39;49m\u001b[43mstop\u001b[49m\u001b[43m,\u001b[49m\u001b[43m \u001b[49m\u001b[43mcallbacks\u001b[49m\u001b[38;5;241;43m=\u001b[39;49m\u001b[43mcallbacks\u001b[49m\u001b[43m,\u001b[49m\u001b[43m \u001b[49m\u001b[38;5;241;43m*\u001b[39;49m\u001b[38;5;241;43m*\u001b[39;49m\u001b[43mkwargs\u001b[49m\u001b[43m)\u001b[49m\n",
      "File \u001b[0;32m~/docs/python/langchain_academy/.venv/lib/python3.11/site-packages/langchain_core/language_models/chat_models.py:690\u001b[0m, in \u001b[0;36mBaseChatModel.generate\u001b[0;34m(self, messages, stop, callbacks, tags, metadata, run_name, run_id, **kwargs)\u001b[0m\n\u001b[1;32m    687\u001b[0m \u001b[38;5;28;01mfor\u001b[39;00m i, m \u001b[38;5;129;01min\u001b[39;00m \u001b[38;5;28menumerate\u001b[39m(messages):\n\u001b[1;32m    688\u001b[0m     \u001b[38;5;28;01mtry\u001b[39;00m:\n\u001b[1;32m    689\u001b[0m         results\u001b[38;5;241m.\u001b[39mappend(\n\u001b[0;32m--> 690\u001b[0m             \u001b[38;5;28;43mself\u001b[39;49m\u001b[38;5;241;43m.\u001b[39;49m\u001b[43m_generate_with_cache\u001b[49m\u001b[43m(\u001b[49m\n\u001b[1;32m    691\u001b[0m \u001b[43m                \u001b[49m\u001b[43mm\u001b[49m\u001b[43m,\u001b[49m\n\u001b[1;32m    692\u001b[0m \u001b[43m                \u001b[49m\u001b[43mstop\u001b[49m\u001b[38;5;241;43m=\u001b[39;49m\u001b[43mstop\u001b[49m\u001b[43m,\u001b[49m\n\u001b[1;32m    693\u001b[0m \u001b[43m                \u001b[49m\u001b[43mrun_manager\u001b[49m\u001b[38;5;241;43m=\u001b[39;49m\u001b[43mrun_managers\u001b[49m\u001b[43m[\u001b[49m\u001b[43mi\u001b[49m\u001b[43m]\u001b[49m\u001b[43m \u001b[49m\u001b[38;5;28;43;01mif\u001b[39;49;00m\u001b[43m \u001b[49m\u001b[43mrun_managers\u001b[49m\u001b[43m \u001b[49m\u001b[38;5;28;43;01melse\u001b[39;49;00m\u001b[43m \u001b[49m\u001b[38;5;28;43;01mNone\u001b[39;49;00m\u001b[43m,\u001b[49m\n\u001b[1;32m    694\u001b[0m \u001b[43m                \u001b[49m\u001b[38;5;241;43m*\u001b[39;49m\u001b[38;5;241;43m*\u001b[39;49m\u001b[43mkwargs\u001b[49m\u001b[43m,\u001b[49m\n\u001b[1;32m    695\u001b[0m \u001b[43m            \u001b[49m\u001b[43m)\u001b[49m\n\u001b[1;32m    696\u001b[0m         )\n\u001b[1;32m    697\u001b[0m     \u001b[38;5;28;01mexcept\u001b[39;00m \u001b[38;5;167;01mBaseException\u001b[39;00m \u001b[38;5;28;01mas\u001b[39;00m e:\n\u001b[1;32m    698\u001b[0m         \u001b[38;5;28;01mif\u001b[39;00m run_managers:\n",
      "File \u001b[0;32m~/docs/python/langchain_academy/.venv/lib/python3.11/site-packages/langchain_core/language_models/chat_models.py:925\u001b[0m, in \u001b[0;36mBaseChatModel._generate_with_cache\u001b[0;34m(self, messages, stop, run_manager, **kwargs)\u001b[0m\n\u001b[1;32m    923\u001b[0m \u001b[38;5;28;01melse\u001b[39;00m:\n\u001b[1;32m    924\u001b[0m     \u001b[38;5;28;01mif\u001b[39;00m inspect\u001b[38;5;241m.\u001b[39msignature(\u001b[38;5;28mself\u001b[39m\u001b[38;5;241m.\u001b[39m_generate)\u001b[38;5;241m.\u001b[39mparameters\u001b[38;5;241m.\u001b[39mget(\u001b[38;5;124m\"\u001b[39m\u001b[38;5;124mrun_manager\u001b[39m\u001b[38;5;124m\"\u001b[39m):\n\u001b[0;32m--> 925\u001b[0m         result \u001b[38;5;241m=\u001b[39m \u001b[38;5;28;43mself\u001b[39;49m\u001b[38;5;241;43m.\u001b[39;49m\u001b[43m_generate\u001b[49m\u001b[43m(\u001b[49m\n\u001b[1;32m    926\u001b[0m \u001b[43m            \u001b[49m\u001b[43mmessages\u001b[49m\u001b[43m,\u001b[49m\u001b[43m \u001b[49m\u001b[43mstop\u001b[49m\u001b[38;5;241;43m=\u001b[39;49m\u001b[43mstop\u001b[49m\u001b[43m,\u001b[49m\u001b[43m \u001b[49m\u001b[43mrun_manager\u001b[49m\u001b[38;5;241;43m=\u001b[39;49m\u001b[43mrun_manager\u001b[49m\u001b[43m,\u001b[49m\u001b[43m \u001b[49m\u001b[38;5;241;43m*\u001b[39;49m\u001b[38;5;241;43m*\u001b[39;49m\u001b[43mkwargs\u001b[49m\n\u001b[1;32m    927\u001b[0m \u001b[43m        \u001b[49m\u001b[43m)\u001b[49m\n\u001b[1;32m    928\u001b[0m     \u001b[38;5;28;01melse\u001b[39;00m:\n\u001b[1;32m    929\u001b[0m         result \u001b[38;5;241m=\u001b[39m \u001b[38;5;28mself\u001b[39m\u001b[38;5;241m.\u001b[39m_generate(messages, stop\u001b[38;5;241m=\u001b[39mstop, \u001b[38;5;241m*\u001b[39m\u001b[38;5;241m*\u001b[39mkwargs)\n",
      "File \u001b[0;32m~/docs/python/langchain_academy/.venv/lib/python3.11/site-packages/langchain_groq/chat_models.py:480\u001b[0m, in \u001b[0;36mChatGroq._generate\u001b[0;34m(self, messages, stop, run_manager, **kwargs)\u001b[0m\n\u001b[1;32m    475\u001b[0m message_dicts, params \u001b[38;5;241m=\u001b[39m \u001b[38;5;28mself\u001b[39m\u001b[38;5;241m.\u001b[39m_create_message_dicts(messages, stop)\n\u001b[1;32m    476\u001b[0m params \u001b[38;5;241m=\u001b[39m {\n\u001b[1;32m    477\u001b[0m     \u001b[38;5;241m*\u001b[39m\u001b[38;5;241m*\u001b[39mparams,\n\u001b[1;32m    478\u001b[0m     \u001b[38;5;241m*\u001b[39m\u001b[38;5;241m*\u001b[39mkwargs,\n\u001b[1;32m    479\u001b[0m }\n\u001b[0;32m--> 480\u001b[0m response \u001b[38;5;241m=\u001b[39m \u001b[38;5;28;43mself\u001b[39;49m\u001b[38;5;241;43m.\u001b[39;49m\u001b[43mclient\u001b[49m\u001b[38;5;241;43m.\u001b[39;49m\u001b[43mcreate\u001b[49m\u001b[43m(\u001b[49m\u001b[43mmessages\u001b[49m\u001b[38;5;241;43m=\u001b[39;49m\u001b[43mmessage_dicts\u001b[49m\u001b[43m,\u001b[49m\u001b[43m \u001b[49m\u001b[38;5;241;43m*\u001b[39;49m\u001b[38;5;241;43m*\u001b[39;49m\u001b[43mparams\u001b[49m\u001b[43m)\u001b[49m\n\u001b[1;32m    481\u001b[0m \u001b[38;5;28;01mreturn\u001b[39;00m \u001b[38;5;28mself\u001b[39m\u001b[38;5;241m.\u001b[39m_create_chat_result(response)\n",
      "File \u001b[0;32m~/docs/python/langchain_academy/.venv/lib/python3.11/site-packages/groq/resources/chat/completions.py:322\u001b[0m, in \u001b[0;36mCompletions.create\u001b[0;34m(self, messages, model, frequency_penalty, function_call, functions, logit_bias, logprobs, max_completion_tokens, max_tokens, n, parallel_tool_calls, presence_penalty, reasoning_format, response_format, seed, service_tier, stop, stream, temperature, tool_choice, tools, top_logprobs, top_p, user, extra_headers, extra_query, extra_body, timeout)\u001b[0m\n\u001b[1;32m    166\u001b[0m \u001b[38;5;28;01mdef\u001b[39;00m\u001b[38;5;250m \u001b[39m\u001b[38;5;21mcreate\u001b[39m(\n\u001b[1;32m    167\u001b[0m     \u001b[38;5;28mself\u001b[39m,\n\u001b[1;32m    168\u001b[0m     \u001b[38;5;241m*\u001b[39m,\n\u001b[0;32m   (...)\u001b[0m\n\u001b[1;32m    198\u001b[0m     timeout: \u001b[38;5;28mfloat\u001b[39m \u001b[38;5;241m|\u001b[39m httpx\u001b[38;5;241m.\u001b[39mTimeout \u001b[38;5;241m|\u001b[39m \u001b[38;5;28;01mNone\u001b[39;00m \u001b[38;5;241m|\u001b[39m NotGiven \u001b[38;5;241m=\u001b[39m NOT_GIVEN,\n\u001b[1;32m    199\u001b[0m ) \u001b[38;5;241m-\u001b[39m\u001b[38;5;241m>\u001b[39m ChatCompletion \u001b[38;5;241m|\u001b[39m Stream[ChatCompletionChunk]:\n\u001b[1;32m    200\u001b[0m \u001b[38;5;250m    \u001b[39m\u001b[38;5;124;03m\"\"\"\u001b[39;00m\n\u001b[1;32m    201\u001b[0m \u001b[38;5;124;03m    Creates a model response for the given chat conversation.\u001b[39;00m\n\u001b[1;32m    202\u001b[0m \n\u001b[0;32m   (...)\u001b[0m\n\u001b[1;32m    320\u001b[0m \u001b[38;5;124;03m      timeout: Override the client-level default timeout for this request, in seconds\u001b[39;00m\n\u001b[1;32m    321\u001b[0m \u001b[38;5;124;03m    \"\"\"\u001b[39;00m\n\u001b[0;32m--> 322\u001b[0m     \u001b[38;5;28;01mreturn\u001b[39;00m \u001b[38;5;28;43mself\u001b[39;49m\u001b[38;5;241;43m.\u001b[39;49m\u001b[43m_post\u001b[49m\u001b[43m(\u001b[49m\n\u001b[1;32m    323\u001b[0m \u001b[43m        \u001b[49m\u001b[38;5;124;43m\"\u001b[39;49m\u001b[38;5;124;43m/openai/v1/chat/completions\u001b[39;49m\u001b[38;5;124;43m\"\u001b[39;49m\u001b[43m,\u001b[49m\n\u001b[1;32m    324\u001b[0m \u001b[43m        \u001b[49m\u001b[43mbody\u001b[49m\u001b[38;5;241;43m=\u001b[39;49m\u001b[43mmaybe_transform\u001b[49m\u001b[43m(\u001b[49m\n\u001b[1;32m    325\u001b[0m \u001b[43m            \u001b[49m\u001b[43m{\u001b[49m\n\u001b[1;32m    326\u001b[0m \u001b[43m                \u001b[49m\u001b[38;5;124;43m\"\u001b[39;49m\u001b[38;5;124;43mmessages\u001b[39;49m\u001b[38;5;124;43m\"\u001b[39;49m\u001b[43m:\u001b[49m\u001b[43m \u001b[49m\u001b[43mmessages\u001b[49m\u001b[43m,\u001b[49m\n\u001b[1;32m    327\u001b[0m \u001b[43m                \u001b[49m\u001b[38;5;124;43m\"\u001b[39;49m\u001b[38;5;124;43mmodel\u001b[39;49m\u001b[38;5;124;43m\"\u001b[39;49m\u001b[43m:\u001b[49m\u001b[43m \u001b[49m\u001b[43mmodel\u001b[49m\u001b[43m,\u001b[49m\n\u001b[1;32m    328\u001b[0m \u001b[43m                \u001b[49m\u001b[38;5;124;43m\"\u001b[39;49m\u001b[38;5;124;43mfrequency_penalty\u001b[39;49m\u001b[38;5;124;43m\"\u001b[39;49m\u001b[43m:\u001b[49m\u001b[43m \u001b[49m\u001b[43mfrequency_penalty\u001b[49m\u001b[43m,\u001b[49m\n\u001b[1;32m    329\u001b[0m \u001b[43m                \u001b[49m\u001b[38;5;124;43m\"\u001b[39;49m\u001b[38;5;124;43mfunction_call\u001b[39;49m\u001b[38;5;124;43m\"\u001b[39;49m\u001b[43m:\u001b[49m\u001b[43m \u001b[49m\u001b[43mfunction_call\u001b[49m\u001b[43m,\u001b[49m\n\u001b[1;32m    330\u001b[0m \u001b[43m                \u001b[49m\u001b[38;5;124;43m\"\u001b[39;49m\u001b[38;5;124;43mfunctions\u001b[39;49m\u001b[38;5;124;43m\"\u001b[39;49m\u001b[43m:\u001b[49m\u001b[43m \u001b[49m\u001b[43mfunctions\u001b[49m\u001b[43m,\u001b[49m\n\u001b[1;32m    331\u001b[0m \u001b[43m                \u001b[49m\u001b[38;5;124;43m\"\u001b[39;49m\u001b[38;5;124;43mlogit_bias\u001b[39;49m\u001b[38;5;124;43m\"\u001b[39;49m\u001b[43m:\u001b[49m\u001b[43m \u001b[49m\u001b[43mlogit_bias\u001b[49m\u001b[43m,\u001b[49m\n\u001b[1;32m    332\u001b[0m \u001b[43m                \u001b[49m\u001b[38;5;124;43m\"\u001b[39;49m\u001b[38;5;124;43mlogprobs\u001b[39;49m\u001b[38;5;124;43m\"\u001b[39;49m\u001b[43m:\u001b[49m\u001b[43m \u001b[49m\u001b[43mlogprobs\u001b[49m\u001b[43m,\u001b[49m\n\u001b[1;32m    333\u001b[0m \u001b[43m                \u001b[49m\u001b[38;5;124;43m\"\u001b[39;49m\u001b[38;5;124;43mmax_completion_tokens\u001b[39;49m\u001b[38;5;124;43m\"\u001b[39;49m\u001b[43m:\u001b[49m\u001b[43m \u001b[49m\u001b[43mmax_completion_tokens\u001b[49m\u001b[43m,\u001b[49m\n\u001b[1;32m    334\u001b[0m \u001b[43m                \u001b[49m\u001b[38;5;124;43m\"\u001b[39;49m\u001b[38;5;124;43mmax_tokens\u001b[39;49m\u001b[38;5;124;43m\"\u001b[39;49m\u001b[43m:\u001b[49m\u001b[43m \u001b[49m\u001b[43mmax_tokens\u001b[49m\u001b[43m,\u001b[49m\n\u001b[1;32m    335\u001b[0m \u001b[43m                \u001b[49m\u001b[38;5;124;43m\"\u001b[39;49m\u001b[38;5;124;43mn\u001b[39;49m\u001b[38;5;124;43m\"\u001b[39;49m\u001b[43m:\u001b[49m\u001b[43m \u001b[49m\u001b[43mn\u001b[49m\u001b[43m,\u001b[49m\n\u001b[1;32m    336\u001b[0m \u001b[43m                \u001b[49m\u001b[38;5;124;43m\"\u001b[39;49m\u001b[38;5;124;43mparallel_tool_calls\u001b[39;49m\u001b[38;5;124;43m\"\u001b[39;49m\u001b[43m:\u001b[49m\u001b[43m \u001b[49m\u001b[43mparallel_tool_calls\u001b[49m\u001b[43m,\u001b[49m\n\u001b[1;32m    337\u001b[0m \u001b[43m                \u001b[49m\u001b[38;5;124;43m\"\u001b[39;49m\u001b[38;5;124;43mpresence_penalty\u001b[39;49m\u001b[38;5;124;43m\"\u001b[39;49m\u001b[43m:\u001b[49m\u001b[43m \u001b[49m\u001b[43mpresence_penalty\u001b[49m\u001b[43m,\u001b[49m\n\u001b[1;32m    338\u001b[0m \u001b[43m                \u001b[49m\u001b[38;5;124;43m\"\u001b[39;49m\u001b[38;5;124;43mreasoning_format\u001b[39;49m\u001b[38;5;124;43m\"\u001b[39;49m\u001b[43m:\u001b[49m\u001b[43m \u001b[49m\u001b[43mreasoning_format\u001b[49m\u001b[43m,\u001b[49m\n\u001b[1;32m    339\u001b[0m \u001b[43m                \u001b[49m\u001b[38;5;124;43m\"\u001b[39;49m\u001b[38;5;124;43mresponse_format\u001b[39;49m\u001b[38;5;124;43m\"\u001b[39;49m\u001b[43m:\u001b[49m\u001b[43m \u001b[49m\u001b[43mresponse_format\u001b[49m\u001b[43m,\u001b[49m\n\u001b[1;32m    340\u001b[0m \u001b[43m                \u001b[49m\u001b[38;5;124;43m\"\u001b[39;49m\u001b[38;5;124;43mseed\u001b[39;49m\u001b[38;5;124;43m\"\u001b[39;49m\u001b[43m:\u001b[49m\u001b[43m \u001b[49m\u001b[43mseed\u001b[49m\u001b[43m,\u001b[49m\n\u001b[1;32m    341\u001b[0m \u001b[43m                \u001b[49m\u001b[38;5;124;43m\"\u001b[39;49m\u001b[38;5;124;43mservice_tier\u001b[39;49m\u001b[38;5;124;43m\"\u001b[39;49m\u001b[43m:\u001b[49m\u001b[43m \u001b[49m\u001b[43mservice_tier\u001b[49m\u001b[43m,\u001b[49m\n\u001b[1;32m    342\u001b[0m \u001b[43m                \u001b[49m\u001b[38;5;124;43m\"\u001b[39;49m\u001b[38;5;124;43mstop\u001b[39;49m\u001b[38;5;124;43m\"\u001b[39;49m\u001b[43m:\u001b[49m\u001b[43m \u001b[49m\u001b[43mstop\u001b[49m\u001b[43m,\u001b[49m\n\u001b[1;32m    343\u001b[0m \u001b[43m                \u001b[49m\u001b[38;5;124;43m\"\u001b[39;49m\u001b[38;5;124;43mstream\u001b[39;49m\u001b[38;5;124;43m\"\u001b[39;49m\u001b[43m:\u001b[49m\u001b[43m \u001b[49m\u001b[43mstream\u001b[49m\u001b[43m,\u001b[49m\n\u001b[1;32m    344\u001b[0m \u001b[43m                \u001b[49m\u001b[38;5;124;43m\"\u001b[39;49m\u001b[38;5;124;43mtemperature\u001b[39;49m\u001b[38;5;124;43m\"\u001b[39;49m\u001b[43m:\u001b[49m\u001b[43m \u001b[49m\u001b[43mtemperature\u001b[49m\u001b[43m,\u001b[49m\n\u001b[1;32m    345\u001b[0m \u001b[43m                \u001b[49m\u001b[38;5;124;43m\"\u001b[39;49m\u001b[38;5;124;43mtool_choice\u001b[39;49m\u001b[38;5;124;43m\"\u001b[39;49m\u001b[43m:\u001b[49m\u001b[43m \u001b[49m\u001b[43mtool_choice\u001b[49m\u001b[43m,\u001b[49m\n\u001b[1;32m    346\u001b[0m \u001b[43m                \u001b[49m\u001b[38;5;124;43m\"\u001b[39;49m\u001b[38;5;124;43mtools\u001b[39;49m\u001b[38;5;124;43m\"\u001b[39;49m\u001b[43m:\u001b[49m\u001b[43m \u001b[49m\u001b[43mtools\u001b[49m\u001b[43m,\u001b[49m\n\u001b[1;32m    347\u001b[0m \u001b[43m                \u001b[49m\u001b[38;5;124;43m\"\u001b[39;49m\u001b[38;5;124;43mtop_logprobs\u001b[39;49m\u001b[38;5;124;43m\"\u001b[39;49m\u001b[43m:\u001b[49m\u001b[43m \u001b[49m\u001b[43mtop_logprobs\u001b[49m\u001b[43m,\u001b[49m\n\u001b[1;32m    348\u001b[0m \u001b[43m                \u001b[49m\u001b[38;5;124;43m\"\u001b[39;49m\u001b[38;5;124;43mtop_p\u001b[39;49m\u001b[38;5;124;43m\"\u001b[39;49m\u001b[43m:\u001b[49m\u001b[43m \u001b[49m\u001b[43mtop_p\u001b[49m\u001b[43m,\u001b[49m\n\u001b[1;32m    349\u001b[0m \u001b[43m                \u001b[49m\u001b[38;5;124;43m\"\u001b[39;49m\u001b[38;5;124;43muser\u001b[39;49m\u001b[38;5;124;43m\"\u001b[39;49m\u001b[43m:\u001b[49m\u001b[43m \u001b[49m\u001b[43muser\u001b[49m\u001b[43m,\u001b[49m\n\u001b[1;32m    350\u001b[0m \u001b[43m            \u001b[49m\u001b[43m}\u001b[49m\u001b[43m,\u001b[49m\n\u001b[1;32m    351\u001b[0m \u001b[43m            \u001b[49m\u001b[43mcompletion_create_params\u001b[49m\u001b[38;5;241;43m.\u001b[39;49m\u001b[43mCompletionCreateParams\u001b[49m\u001b[43m,\u001b[49m\n\u001b[1;32m    352\u001b[0m \u001b[43m        \u001b[49m\u001b[43m)\u001b[49m\u001b[43m,\u001b[49m\n\u001b[1;32m    353\u001b[0m \u001b[43m        \u001b[49m\u001b[43moptions\u001b[49m\u001b[38;5;241;43m=\u001b[39;49m\u001b[43mmake_request_options\u001b[49m\u001b[43m(\u001b[49m\n\u001b[1;32m    354\u001b[0m \u001b[43m            \u001b[49m\u001b[43mextra_headers\u001b[49m\u001b[38;5;241;43m=\u001b[39;49m\u001b[43mextra_headers\u001b[49m\u001b[43m,\u001b[49m\u001b[43m \u001b[49m\u001b[43mextra_query\u001b[49m\u001b[38;5;241;43m=\u001b[39;49m\u001b[43mextra_query\u001b[49m\u001b[43m,\u001b[49m\u001b[43m \u001b[49m\u001b[43mextra_body\u001b[49m\u001b[38;5;241;43m=\u001b[39;49m\u001b[43mextra_body\u001b[49m\u001b[43m,\u001b[49m\u001b[43m \u001b[49m\u001b[43mtimeout\u001b[49m\u001b[38;5;241;43m=\u001b[39;49m\u001b[43mtimeout\u001b[49m\n\u001b[1;32m    355\u001b[0m \u001b[43m        \u001b[49m\u001b[43m)\u001b[49m\u001b[43m,\u001b[49m\n\u001b[1;32m    356\u001b[0m \u001b[43m        \u001b[49m\u001b[43mcast_to\u001b[49m\u001b[38;5;241;43m=\u001b[39;49m\u001b[43mChatCompletion\u001b[49m\u001b[43m,\u001b[49m\n\u001b[1;32m    357\u001b[0m \u001b[43m        \u001b[49m\u001b[43mstream\u001b[49m\u001b[38;5;241;43m=\u001b[39;49m\u001b[43mstream\u001b[49m\u001b[43m \u001b[49m\u001b[38;5;129;43;01mor\u001b[39;49;00m\u001b[43m \u001b[49m\u001b[38;5;28;43;01mFalse\u001b[39;49;00m\u001b[43m,\u001b[49m\n\u001b[1;32m    358\u001b[0m \u001b[43m        \u001b[49m\u001b[43mstream_cls\u001b[49m\u001b[38;5;241;43m=\u001b[39;49m\u001b[43mStream\u001b[49m\u001b[43m[\u001b[49m\u001b[43mChatCompletionChunk\u001b[49m\u001b[43m]\u001b[49m\u001b[43m,\u001b[49m\n\u001b[1;32m    359\u001b[0m \u001b[43m    \u001b[49m\u001b[43m)\u001b[49m\n",
      "File \u001b[0;32m~/docs/python/langchain_academy/.venv/lib/python3.11/site-packages/groq/_base_client.py:1266\u001b[0m, in \u001b[0;36mSyncAPIClient.post\u001b[0;34m(self, path, cast_to, body, options, files, stream, stream_cls)\u001b[0m\n\u001b[1;32m   1252\u001b[0m \u001b[38;5;28;01mdef\u001b[39;00m\u001b[38;5;250m \u001b[39m\u001b[38;5;21mpost\u001b[39m(\n\u001b[1;32m   1253\u001b[0m     \u001b[38;5;28mself\u001b[39m,\n\u001b[1;32m   1254\u001b[0m     path: \u001b[38;5;28mstr\u001b[39m,\n\u001b[0;32m   (...)\u001b[0m\n\u001b[1;32m   1261\u001b[0m     stream_cls: \u001b[38;5;28mtype\u001b[39m[_StreamT] \u001b[38;5;241m|\u001b[39m \u001b[38;5;28;01mNone\u001b[39;00m \u001b[38;5;241m=\u001b[39m \u001b[38;5;28;01mNone\u001b[39;00m,\n\u001b[1;32m   1262\u001b[0m ) \u001b[38;5;241m-\u001b[39m\u001b[38;5;241m>\u001b[39m ResponseT \u001b[38;5;241m|\u001b[39m _StreamT:\n\u001b[1;32m   1263\u001b[0m     opts \u001b[38;5;241m=\u001b[39m FinalRequestOptions\u001b[38;5;241m.\u001b[39mconstruct(\n\u001b[1;32m   1264\u001b[0m         method\u001b[38;5;241m=\u001b[39m\u001b[38;5;124m\"\u001b[39m\u001b[38;5;124mpost\u001b[39m\u001b[38;5;124m\"\u001b[39m, url\u001b[38;5;241m=\u001b[39mpath, json_data\u001b[38;5;241m=\u001b[39mbody, files\u001b[38;5;241m=\u001b[39mto_httpx_files(files), \u001b[38;5;241m*\u001b[39m\u001b[38;5;241m*\u001b[39moptions\n\u001b[1;32m   1265\u001b[0m     )\n\u001b[0;32m-> 1266\u001b[0m     \u001b[38;5;28;01mreturn\u001b[39;00m cast(ResponseT, \u001b[38;5;28;43mself\u001b[39;49m\u001b[38;5;241;43m.\u001b[39;49m\u001b[43mrequest\u001b[49m\u001b[43m(\u001b[49m\u001b[43mcast_to\u001b[49m\u001b[43m,\u001b[49m\u001b[43m \u001b[49m\u001b[43mopts\u001b[49m\u001b[43m,\u001b[49m\u001b[43m \u001b[49m\u001b[43mstream\u001b[49m\u001b[38;5;241;43m=\u001b[39;49m\u001b[43mstream\u001b[49m\u001b[43m,\u001b[49m\u001b[43m \u001b[49m\u001b[43mstream_cls\u001b[49m\u001b[38;5;241;43m=\u001b[39;49m\u001b[43mstream_cls\u001b[49m\u001b[43m)\u001b[49m)\n",
      "File \u001b[0;32m~/docs/python/langchain_academy/.venv/lib/python3.11/site-packages/groq/_base_client.py:958\u001b[0m, in \u001b[0;36mSyncAPIClient.request\u001b[0;34m(self, cast_to, options, remaining_retries, stream, stream_cls)\u001b[0m\n\u001b[1;32m    955\u001b[0m \u001b[38;5;28;01melse\u001b[39;00m:\n\u001b[1;32m    956\u001b[0m     retries_taken \u001b[38;5;241m=\u001b[39m \u001b[38;5;241m0\u001b[39m\n\u001b[0;32m--> 958\u001b[0m \u001b[38;5;28;01mreturn\u001b[39;00m \u001b[38;5;28;43mself\u001b[39;49m\u001b[38;5;241;43m.\u001b[39;49m\u001b[43m_request\u001b[49m\u001b[43m(\u001b[49m\n\u001b[1;32m    959\u001b[0m \u001b[43m    \u001b[49m\u001b[43mcast_to\u001b[49m\u001b[38;5;241;43m=\u001b[39;49m\u001b[43mcast_to\u001b[49m\u001b[43m,\u001b[49m\n\u001b[1;32m    960\u001b[0m \u001b[43m    \u001b[49m\u001b[43moptions\u001b[49m\u001b[38;5;241;43m=\u001b[39;49m\u001b[43moptions\u001b[49m\u001b[43m,\u001b[49m\n\u001b[1;32m    961\u001b[0m \u001b[43m    \u001b[49m\u001b[43mstream\u001b[49m\u001b[38;5;241;43m=\u001b[39;49m\u001b[43mstream\u001b[49m\u001b[43m,\u001b[49m\n\u001b[1;32m    962\u001b[0m \u001b[43m    \u001b[49m\u001b[43mstream_cls\u001b[49m\u001b[38;5;241;43m=\u001b[39;49m\u001b[43mstream_cls\u001b[49m\u001b[43m,\u001b[49m\n\u001b[1;32m    963\u001b[0m \u001b[43m    \u001b[49m\u001b[43mretries_taken\u001b[49m\u001b[38;5;241;43m=\u001b[39;49m\u001b[43mretries_taken\u001b[49m\u001b[43m,\u001b[49m\n\u001b[1;32m    964\u001b[0m \u001b[43m\u001b[49m\u001b[43m)\u001b[49m\n",
      "File \u001b[0;32m~/docs/python/langchain_academy/.venv/lib/python3.11/site-packages/groq/_base_client.py:1061\u001b[0m, in \u001b[0;36mSyncAPIClient._request\u001b[0;34m(self, cast_to, options, retries_taken, stream, stream_cls)\u001b[0m\n\u001b[1;32m   1058\u001b[0m         err\u001b[38;5;241m.\u001b[39mresponse\u001b[38;5;241m.\u001b[39mread()\n\u001b[1;32m   1060\u001b[0m     log\u001b[38;5;241m.\u001b[39mdebug(\u001b[38;5;124m\"\u001b[39m\u001b[38;5;124mRe-raising status error\u001b[39m\u001b[38;5;124m\"\u001b[39m)\n\u001b[0;32m-> 1061\u001b[0m     \u001b[38;5;28;01mraise\u001b[39;00m \u001b[38;5;28mself\u001b[39m\u001b[38;5;241m.\u001b[39m_make_status_error_from_response(err\u001b[38;5;241m.\u001b[39mresponse) \u001b[38;5;28;01mfrom\u001b[39;00m\u001b[38;5;250m \u001b[39m\u001b[38;5;28;01mNone\u001b[39;00m\n\u001b[1;32m   1063\u001b[0m \u001b[38;5;28;01mreturn\u001b[39;00m \u001b[38;5;28mself\u001b[39m\u001b[38;5;241m.\u001b[39m_process_response(\n\u001b[1;32m   1064\u001b[0m     cast_to\u001b[38;5;241m=\u001b[39mcast_to,\n\u001b[1;32m   1065\u001b[0m     options\u001b[38;5;241m=\u001b[39moptions,\n\u001b[0;32m   (...)\u001b[0m\n\u001b[1;32m   1069\u001b[0m     retries_taken\u001b[38;5;241m=\u001b[39mretries_taken,\n\u001b[1;32m   1070\u001b[0m )\n",
      "\u001b[0;31mBadRequestError\u001b[0m: Error code: 400 - {'error': {'message': 'The model `llama3-groq-8b-8192-tool-use-preview` has been decommissioned and is no longer supported. Please refer to https://console.groq.com/docs/deprecations for a recommendation on which model to use instead.', 'type': 'invalid_request_error', 'code': 'model_decommissioned'}}"
     ]
    }
   ],
   "source": [
    "tool_call_res_test1 = tool_access_lm.invoke(\"What can you tell me about the learned helplessness theory?\")\n",
    "tool_call_res_test1"
   ]
  },
  {
   "cell_type": "code",
   "execution_count": 30,
   "id": "09d4ec58",
   "metadata": {},
   "outputs": [],
   "source": [
    "groq_tool_llm = LLMProvider(\n",
    "    provider=\"groq\",\n",
    "    model_id=\"llama-3.1-8b-instant\"\n",
    ").get_llm(max_tokens=4084)\n",
    "\n",
    "tool_access_lm = groq_tool_llm.bind_tools([add_and_commit_changes])"
   ]
  },
  {
   "cell_type": "code",
   "execution_count": 31,
   "id": "0fff9fcf",
   "metadata": {},
   "outputs": [
    {
     "data": {
      "text/plain": [
       "AIMessage(content='', additional_kwargs={'tool_calls': [{'id': 'call_tdjv', 'function': {'arguments': '{\"query\": \"learned helplessness theory\"}', 'name': 'brave_search'}, 'type': 'function'}]}, response_metadata={'token_usage': {'completion_tokens': 20, 'prompt_tokens': 304, 'total_tokens': 324, 'completion_time': 0.026666667, 'prompt_time': 0.014557366, 'queue_time': 0.23493254800000002, 'total_time': 0.041224033}, 'model_name': 'llama-3.1-8b-instant', 'system_fingerprint': 'fp_4a6201cbac', 'finish_reason': 'tool_calls', 'logprobs': None}, id='run-239fdb99-680b-4d02-92e4-e136f955d0d1-0', tool_calls=[{'name': 'brave_search', 'args': {'query': 'learned helplessness theory'}, 'id': 'call_tdjv', 'type': 'tool_call'}], usage_metadata={'input_tokens': 304, 'output_tokens': 20, 'total_tokens': 324})"
      ]
     },
     "execution_count": 31,
     "metadata": {},
     "output_type": "execute_result"
    }
   ],
   "source": [
    "tool_call_res_test1 = tool_access_lm.invoke(\"What can you tell me about the learned helplessness theory?\")\n",
    "tool_call_res_test1"
   ]
  },
  {
   "cell_type": "code",
   "execution_count": 35,
   "id": "f579912f",
   "metadata": {},
   "outputs": [
    {
     "data": {
      "text/plain": [
       "{'content': '',\n",
       " 'additional_kwargs': {'tool_calls': [{'id': 'call_tdjv',\n",
       "    'function': {'arguments': '{\"query\": \"learned helplessness theory\"}',\n",
       "     'name': 'brave_search'},\n",
       "    'type': 'function'}]},\n",
       " 'response_metadata': {'token_usage': {'completion_tokens': 20,\n",
       "   'prompt_tokens': 304,\n",
       "   'total_tokens': 324,\n",
       "   'completion_time': 0.026666667,\n",
       "   'prompt_time': 0.014557366,\n",
       "   'queue_time': 0.23493254800000002,\n",
       "   'total_time': 0.041224033},\n",
       "  'model_name': 'llama-3.1-8b-instant',\n",
       "  'system_fingerprint': 'fp_4a6201cbac',\n",
       "  'finish_reason': 'tool_calls',\n",
       "  'logprobs': None},\n",
       " 'type': 'ai',\n",
       " 'name': None,\n",
       " 'id': 'run-239fdb99-680b-4d02-92e4-e136f955d0d1-0',\n",
       " 'example': False,\n",
       " 'tool_calls': [{'name': 'brave_search',\n",
       "   'args': {'query': 'learned helplessness theory'},\n",
       "   'id': 'call_tdjv',\n",
       "   'type': 'tool_call'}],\n",
       " 'invalid_tool_calls': [],\n",
       " 'usage_metadata': {'input_tokens': 304,\n",
       "  'output_tokens': 20,\n",
       "  'total_tokens': 324}}"
      ]
     },
     "execution_count": 35,
     "metadata": {},
     "output_type": "execute_result"
    }
   ],
   "source": [
    "tool_call_res_test1.model_dump()"
   ]
  },
  {
   "cell_type": "code",
   "execution_count": 32,
   "id": "a915e907",
   "metadata": {},
   "outputs": [],
   "source": [
    "tool_call_res_test = tool_access_lm.invoke(\"Check if there are changes to the repository in the current working directory, and commit them if there are any.\")"
   ]
  },
  {
   "cell_type": "code",
   "execution_count": 33,
   "id": "9c1c5462",
   "metadata": {},
   "outputs": [
    {
     "data": {
      "text/plain": [
       "AIMessage(content='', additional_kwargs={'tool_calls': [{'id': 'call_m5c1', 'function': {'arguments': '{\"repo_local_path\": \".\"}', 'name': 'add_and_commit_changes'}, 'type': 'function'}]}, response_metadata={'token_usage': {'completion_tokens': 16, 'prompt_tokens': 314, 'total_tokens': 330, 'completion_time': 0.021333333, 'prompt_time': 0.010520338, 'queue_time': 0.235636116, 'total_time': 0.031853671}, 'model_name': 'llama-3.1-8b-instant', 'system_fingerprint': 'fp_4a6201cbac', 'finish_reason': 'tool_calls', 'logprobs': None}, id='run-259152f5-c114-4c32-8045-cd9b2db5669f-0', tool_calls=[{'name': 'add_and_commit_changes', 'args': {'repo_local_path': '.'}, 'id': 'call_m5c1', 'type': 'tool_call'}], usage_metadata={'input_tokens': 314, 'output_tokens': 16, 'total_tokens': 330})"
      ]
     },
     "execution_count": 33,
     "metadata": {},
     "output_type": "execute_result"
    }
   ],
   "source": [
    "tool_call_res_test"
   ]
  },
  {
   "cell_type": "code",
   "execution_count": 34,
   "id": "627fb5af",
   "metadata": {},
   "outputs": [
    {
     "data": {
      "text/plain": [
       "[{'name': 'add_and_commit_changes',\n",
       "  'args': {'repo_local_path': '.'},\n",
       "  'id': 'call_m5c1',\n",
       "  'type': 'tool_call'}]"
      ]
     },
     "execution_count": 34,
     "metadata": {},
     "output_type": "execute_result"
    }
   ],
   "source": [
    "tool_call_res_test.tool_calls"
   ]
  },
  {
   "cell_type": "markdown",
   "id": "8c4e545b",
   "metadata": {},
   "source": [
    "<div class=\"alert alert-block\" style=\"background-color: #5c66f0; color: #fff;\">\n",
    "\n",
    "So, **groq's** models aren't able to tell apart when there's no need to perform a tool call.  \n",
    "They're however able to tell, when there's a need to make a tool_call!  \n",
    "\n",
    "</div>\n",
    "\n",
    "<div class=\"alert alert-block\" style=\"background-color: #4bb552; color: #fff;\">\n",
    "\n",
    "Let's try Gemini Models, see how they fare!\n",
    "\n",
    "</div>"
   ]
  },
  {
   "cell_type": "code",
   "execution_count": 36,
   "id": "ec5d5233",
   "metadata": {},
   "outputs": [],
   "source": [
    "gemini_tool_lm = google_lm.bind_tools([add_and_commit_changes])"
   ]
  },
  {
   "cell_type": "code",
   "execution_count": 37,
   "id": "036d7830",
   "metadata": {},
   "outputs": [
    {
     "data": {
      "text/plain": [
       "AIMessage(content=\"Learned helplessness is a psychological phenomenon where an organism, after experiencing repeated inescapable aversive stimuli, fails to learn or utilize effective escape or avoidance responses even when such responses are readily available.  Essentially, the organism learns that its actions have no effect on its environment, leading to passivity and a sense of hopelessness.\\n\\nThis theory was developed by Martin Seligman and colleagues through experiments with dogs.  Dogs subjected to inescapable shocks eventually stopped attempting to escape even when given the opportunity to do so later.  This passivity extended beyond the experimental context, impacting their behavior in other situations.\\n\\nThe key elements of learned helplessness are:\\n\\n* **Inescapable aversive stimuli:**  The organism experiences negative events that it cannot control.\\n* **Attribution of uncontrollability:** The organism attributes the negative events to internal, stable, and global factors.  This means they believe the cause is within themselves, will persist over time, and affects many aspects of their lives.\\n* **Passivity and learned helplessness:**  The organism stops trying to escape or avoid negative events, even when escape is possible.\\n\\nLearned helplessness has significant implications for understanding depression, anxiety, and other mental health issues.  Individuals who experience repeated failures or traumatic events may develop a sense of helplessness, leading to decreased motivation, avoidance of challenges, and negative self-perception.  However, it's important to note that learned helplessness is not an inevitable outcome of negative experiences; factors like coping mechanisms, social support, and previous experiences of control can influence an individual's response.  Furthermore, learned optimism, a concept related to learned helplessness, suggests that individuals can learn to attribute positive outcomes to internal, stable, and global factors, fostering resilience and a more positive outlook.\", additional_kwargs={}, response_metadata={'prompt_feedback': {'block_reason': 0, 'safety_ratings': []}, 'finish_reason': 'STOP', 'safety_ratings': []}, id='run-0581151b-ed1d-482f-94a2-c51a6c75c8c0-0', usage_metadata={'input_tokens': 73, 'output_tokens': 353, 'total_tokens': 426, 'input_token_details': {'cache_read': 0}})"
      ]
     },
     "execution_count": 37,
     "metadata": {},
     "output_type": "execute_result"
    }
   ],
   "source": [
    "g_tool_call_res_test1 = gemini_tool_lm.invoke(\"What can you tell me about the learned helplessness theory?\")\n",
    "g_tool_call_res_test1"
   ]
  },
  {
   "cell_type": "code",
   "execution_count": 39,
   "id": "481f2275",
   "metadata": {},
   "outputs": [
    {
     "data": {
      "text/plain": [
       "{'content': \"Learned helplessness is a psychological phenomenon where an organism, after experiencing repeated inescapable aversive stimuli, fails to learn or utilize effective escape or avoidance responses even when such responses are readily available.  Essentially, the organism learns that its actions have no effect on its environment, leading to passivity and a sense of hopelessness.\\n\\nThis theory was developed by Martin Seligman and colleagues through experiments with dogs.  Dogs subjected to inescapable shocks eventually stopped attempting to escape even when given the opportunity to do so later.  This passivity extended beyond the experimental context, impacting their behavior in other situations.\\n\\nThe key elements of learned helplessness are:\\n\\n* **Inescapable aversive stimuli:**  The organism experiences negative events that it cannot control.\\n* **Attribution of uncontrollability:** The organism attributes the negative events to internal, stable, and global factors.  This means they believe the cause is within themselves, will persist over time, and affects many aspects of their lives.\\n* **Passivity and learned helplessness:**  The organism stops trying to escape or avoid negative events, even when escape is possible.\\n\\nLearned helplessness has significant implications for understanding depression, anxiety, and other mental health issues.  Individuals who experience repeated failures or traumatic events may develop a sense of helplessness, leading to decreased motivation, avoidance of challenges, and negative self-perception.  However, it's important to note that learned helplessness is not an inevitable outcome of negative experiences; factors like coping mechanisms, social support, and previous experiences of control can influence an individual's response.  Furthermore, learned optimism, a concept related to learned helplessness, suggests that individuals can learn to attribute positive outcomes to internal, stable, and global factors, fostering resilience and a more positive outlook.\",\n",
       " 'additional_kwargs': {},\n",
       " 'response_metadata': {'prompt_feedback': {'block_reason': 0,\n",
       "   'safety_ratings': []},\n",
       "  'finish_reason': 'STOP',\n",
       "  'safety_ratings': []},\n",
       " 'type': 'ai',\n",
       " 'name': None,\n",
       " 'id': 'run-0581151b-ed1d-482f-94a2-c51a6c75c8c0-0',\n",
       " 'example': False,\n",
       " 'tool_calls': [],\n",
       " 'invalid_tool_calls': [],\n",
       " 'usage_metadata': {'input_tokens': 73,\n",
       "  'output_tokens': 353,\n",
       "  'total_tokens': 426,\n",
       "  'input_token_details': {'cache_read': 0}}}"
      ]
     },
     "execution_count": 39,
     "metadata": {},
     "output_type": "execute_result"
    }
   ],
   "source": [
    "g_tool_call_res_test1.model_dump()"
   ]
  },
  {
   "cell_type": "code",
   "execution_count": 38,
   "id": "ad970809",
   "metadata": {},
   "outputs": [
    {
     "data": {
      "text/plain": [
       "AIMessage(content='', additional_kwargs={'function_call': {'name': 'add_and_commit_changes', 'arguments': '{}'}}, response_metadata={'prompt_feedback': {'block_reason': 0, 'safety_ratings': []}, 'finish_reason': 'STOP', 'safety_ratings': []}, id='run-6f6b11ce-937e-471f-b321-1f5c578f137c-0', tool_calls=[{'name': 'add_and_commit_changes', 'args': {}, 'id': 'e59d1a8b-df07-430a-a504-222c0c43e0bc', 'type': 'tool_call'}], usage_metadata={'input_tokens': 84, 'output_tokens': 7, 'total_tokens': 91, 'input_token_details': {'cache_read': 0}})"
      ]
     },
     "execution_count": 38,
     "metadata": {},
     "output_type": "execute_result"
    }
   ],
   "source": [
    "g_tool_call_res_test2 = gemini_tool_lm.invoke(\"Check if there are changes to the repository in the current working directory, and commit them if there are any.\")\n",
    "g_tool_call_res_test2"
   ]
  },
  {
   "cell_type": "code",
   "execution_count": 40,
   "id": "3f053ff2",
   "metadata": {},
   "outputs": [
    {
     "data": {
      "text/plain": [
       "[{'name': 'add_and_commit_changes',\n",
       "  'args': {},\n",
       "  'id': 'e59d1a8b-df07-430a-a504-222c0c43e0bc',\n",
       "  'type': 'tool_call'}]"
      ]
     },
     "execution_count": 40,
     "metadata": {},
     "output_type": "execute_result"
    }
   ],
   "source": [
    "g_tool_call_res_test2.tool_calls"
   ]
  },
  {
   "cell_type": "markdown",
   "id": "9bee675d",
   "metadata": {},
   "source": [
    "```\n",
    "Stopped at 2:43 of the \"Lesson 4: Chain\" in LC Academy!\n",
    "```"
   ]
  },
  {
   "cell_type": "markdown",
   "id": "31c93869",
   "metadata": {},
   "source": [
    "###### Trying to see if tool_node can be invoked!"
   ]
  },
  {
   "cell_type": "code",
   "execution_count": 42,
   "id": "346edf80",
   "metadata": {},
   "outputs": [],
   "source": [
    "from langgraph.graph import MessagesState\n",
    "\n",
    "def tool_call_func(state: MessagesState):\n",
    "    print(\"---Tool Call Function---\")\n",
    "    response = gemini_tool_lm.invoke(state[\"messages\"])\n",
    "    state[\"messages\"].append(response)\n",
    "    return state\n"
   ]
  },
  {
   "cell_type": "code",
   "execution_count": 44,
   "id": "bf3703b6",
   "metadata": {},
   "outputs": [],
   "source": [
    "from langgraph.graph import StateGraph, START, END\n",
    "from langgraph.prebuilt import tools_condition, ToolNode\n",
    "\n",
    "builder = StateGraph(MessagesState)\n",
    "\n",
    "# Nodes\n",
    "builder.add_node(\"tool_call_func\", tool_call_func)\n",
    "builder.add_node(\"tools\", ToolNode([add_and_commit_changes]))\n",
    "\n",
    "# Edges\n",
    "builder.add_edge(START, \"tool_call_func\")\n",
    "builder.add_conditional_edges(\"tool_call_func\", tools_condition)\n",
    "builder.add_edge(\"tools\", END)\n",
    "\n",
    "graph = builder.compile()"
   ]
  },
  {
   "cell_type": "code",
   "execution_count": 45,
   "id": "63b98fa2",
   "metadata": {},
   "outputs": [
    {
     "data": {
      "image/png": "[encoded data removed]",
      "text/plain": [
       "<IPython.core.display.Image object>"
      ]
     },
     "metadata": {},
     "output_type": "display_data"
    }
   ],
   "source": [
    "from IPython.display import display, Image\n",
    "display(Image(graph.get_graph().draw_mermaid_png()))"
   ]
  },
  {
   "cell_type": "code",
   "execution_count": 46,
   "id": "56ec17ed",
   "metadata": {},
   "outputs": [],
   "source": [
    "state: MessagesState = MessagesState()\n",
    "state[\"messages\"] = [HumanMessage(content=\"Check if there are changes to the repository in the current working directory, and commit them if there are any.\", name=\"rinzler\")]"
   ]
  },
  {
   "cell_type": "code",
   "execution_count": null,
   "id": "917239b8",
   "metadata": {},
   "outputs": [
    {
     "name": "stdout",
     "output_type": "stream",
     "text": [
      "---Tool Call Function---\n"
     ]
    }
   ],
   "source": [
    "tool_exec_trial = graph.invoke(state)"
   ]
  },
  {
   "cell_type": "code",
   "execution_count": null,
   "id": "934bfeb4",
   "metadata": {},
   "outputs": [],
   "source": [
    "for res in tool_exec_trial:\n",
    "    res.pretty_print()"
   ]
  },
  {
   "cell_type": "markdown",
   "id": "b16495ca",
   "metadata": {},
   "source": [
    "###### End of tool calling graph trial!"
   ]
  },
  {
   "cell_type": "code",
   "execution_count": null,
   "id": "9dd81723",
   "metadata": {},
   "outputs": [],
   "source": []
  }
 ],
 "metadata": {
  "kernelspec": {
   "display_name": "Python 3 (ipykernel)",
   "language": "python",
   "name": "python3"
  },
  "language_info": {
   "codemirror_mode": {
    "name": "ipython",
    "version": 3
   },
   "file_extension": ".py",
   "mimetype": "text/x-python",
   "name": "python",
   "nbconvert_exporter": "python",
   "pygments_lexer": "ipython3",
   "version": "3.11.2"
  }
 },
 "nbformat": 4,
 "nbformat_minor": 5
}
